{
 "cells": [
  {
   "cell_type": "markdown",
   "metadata": {},
   "source": [
    "# CONTROL DE FLUJO"
   ]
  },
  {
   "cell_type": "markdown",
   "metadata": {},
   "source": [
    "## \"Qué\" en vez del \"Cómo\""
   ]
  },
  {
   "cell_type": "markdown",
   "metadata": {},
   "source": [
    "<p style=\"text-align: justify;\">\n",
    "Con el objetivo de conseguir algoritmos que permitan describir el ** Qué ** en vez del ** Cómo ** , se escribe código conciso y expresivo. Además de esto, tambien se busca que no se generen \"efectos colaterales\". En los lenguajes de programación imperativa se manejan estados. Los estados están dados por los valores de las variables. Para esto se utilizan sentencias que como For/in, while, if, if-else-elif, etc. Estas sentencias permiten controlar y cambiar los valores que van tomando una variables. Esto genera “efectos colaterales”, cambios en los valores de las variables dentro del código.\n",
    "\n",
    "Para pasar de un código escrito de la manera tradicional (programación imperativa), se puede acudir a algunas estrategias como las siguientes:\n",
    "</p>\n",
    "\n",
    "- Encapsulamiento\n",
    "- Listas por comprensión\n",
    "- Recursividad"
   ]
  },
  {
   "cell_type": "markdown",
   "metadata": {},
   "source": [
    "## Encapsulamiento\n",
    "\n",
    "Encapsular se refiere a cuando se tienen secciones de código que se puedan contener por si solas dentro de una función. "
   ]
  },
  {
   "cell_type": "code",
   "execution_count": 31,
   "metadata": {},
   "outputs": [],
   "source": [
    "## Ejemplo No.1 verificando si un numero es par\n",
    "naturales = range(1,11)\n",
    "resultado = list()\n",
    "for i in naturales:\n",
    "    if(i % 2 == 0):\n",
    "        resultado.append(i)"
   ]
  },
  {
   "cell_type": "code",
   "execution_count": 32,
   "metadata": {},
   "outputs": [
    {
     "name": "stdout",
     "output_type": "stream",
     "text": [
      "[2, 4, 6, 8, 10]\n"
     ]
    }
   ],
   "source": [
    "\"\"\"Resultado\"\"\"\n",
    "print resultado"
   ]
  },
  {
   "cell_type": "markdown",
   "metadata": {},
   "source": [
    "El ejemplo No.1 es muy sencillo. Simplemente se puede reemplazar la linea del condicional if por una función así:"
   ]
  },
  {
   "cell_type": "code",
   "execution_count": 29,
   "metadata": {},
   "outputs": [],
   "source": [
    "## Ejemplo No.2 Encapsulando funciones\n",
    "def esPar(numero):\n",
    "    return numero%2 == 0\n",
    "\n",
    "resultado = list()\n",
    "for i in naturales:\n",
    "    if(esPar(i)):\n",
    "        resultado.append(i)"
   ]
  },
  {
   "cell_type": "code",
   "execution_count": 30,
   "metadata": {},
   "outputs": [
    {
     "name": "stdout",
     "output_type": "stream",
     "text": [
      "[2, 4, 6, 8, 10]\n"
     ]
    }
   ],
   "source": [
    "\"\"\"Resultado\"\"\"\n",
    "print resultado"
   ]
  },
  {
   "cell_type": "markdown",
   "metadata": {},
   "source": [
    "## Listas por comprensión\n",
    "\n",
    "<p style=\"text-align: justify;\">\n",
    "Las listas por comprensión son una característica tomada de Haskell. Estas están presentes en Python desde la versión 2.0. Permiten crear nuevas listas a partir de otras listas o iterables, a través de la aplicación de funciones y condiciones que vayan generando los elementos de la lista. \n",
    "</p>"
   ]
  },
  {
   "cell_type": "code",
   "execution_count": 15,
   "metadata": {},
   "outputs": [],
   "source": [
    "## Ejemplo No. 3 Utilizando listas por comprension\n",
    "#Ejemplo de listas por compresion\n",
    "l2 = [n ** 2 for n in naturales] \n",
    "#equivalente a \n",
    "# l2 = []\n",
    "# for n in naturales:\n",
    "# \tl2.append(n**2)"
   ]
  },
  {
   "cell_type": "code",
   "execution_count": 16,
   "metadata": {},
   "outputs": [
    {
     "name": "stdout",
     "output_type": "stream",
     "text": [
      "[1, 4, 9, 16, 25, 36, 49, 64, 81, 100]\n"
     ]
    }
   ],
   "source": [
    "\"\"\"Resultado\"\"\"\n",
    "print l2"
   ]
  },
  {
   "cell_type": "markdown",
   "metadata": {},
   "source": [
    "Por ejemplo, si se quisiera obtener el mismo resultado del primer ejemplo con las listas por comprensión, se podría escribir algo como lo siguiente: "
   ]
  },
  {
   "cell_type": "code",
   "execution_count": 27,
   "metadata": {},
   "outputs": [],
   "source": [
    "nuevaLista = [n for n in naturales if esPar(n)] "
   ]
  },
  {
   "cell_type": "code",
   "execution_count": 28,
   "metadata": {},
   "outputs": [
    {
     "name": "stdout",
     "output_type": "stream",
     "text": [
      "[2, 4, 6, 8, 10]\n"
     ]
    }
   ],
   "source": [
    "\"\"\"Resultado\"\"\"\n",
    "print nuevaLista"
   ]
  },
  {
   "cell_type": "markdown",
   "metadata": {},
   "source": [
    "## Recursividad\n",
    "\n",
    "<p style=\"text-align: justify;\">\n",
    "La recursividad es una técnica utilizada para evitar el uso del estado de las variables. La recursividad tambien da la facilidad de expresar el “Qué” en vez del “Como”. La recursividad se define clasicamente como la capacidad de una función de llamarse a si misma. Para escribir funciones recursivas, se deben identificar dos casos. El caso base, que se calcula directamente, y el caso recursivo que se calcula a través de la evaluación recursiva de una función a partir de un valor.\n",
    "</p>"
   ]
  },
  {
   "cell_type": "code",
   "execution_count": 33,
   "metadata": {},
   "outputs": [],
   "source": [
    "##Ejemplo No. 4 Recursion\n",
    "\n",
    "s = 0\n",
    "for n in range(1, 11):\n",
    "    s += n\n",
    "\n",
    "##Lo anterior produce el mismo resultado que\n",
    "def sum(seq):\n",
    "    if len(seq) == 0: \n",
    "        return 0\n",
    "    else:\n",
    "        return seq[0] + sum(seq[1:])"
   ]
  },
  {
   "cell_type": "code",
   "execution_count": 34,
   "metadata": {},
   "outputs": [
    {
     "name": "stdout",
     "output_type": "stream",
     "text": [
      "55\n"
     ]
    }
   ],
   "source": [
    "\"\"\"Resultado\"\"\"\n",
    "print sum(range(1,11))"
   ]
  },
  {
   "cell_type": "markdown",
   "metadata": {},
   "source": [
    "<p style=\"text-align: justify;\">\n",
    "Como se puede ver, el caso base de la función sum() es cuando la lista ya no tiene más elementos, en este caso no se devuelve nada y se corta la llamada recursiva. El caso contrario, realiza la evaluación recursiva mediante el retorno de la suma de la cabeza de la lista sumada a la función evaluada con la cola de la lista. \n",
    "</p>"
   ]
  },
  {
   "cell_type": "code",
   "execution_count": 35,
   "metadata": {},
   "outputs": [],
   "source": [
    "def factorial(n):\n",
    "    if n == 0: ##Caso base\n",
    "        return 1\n",
    "    else:\n",
    "        return n * factorial(n-1)\n"
   ]
  },
  {
   "cell_type": "code",
   "execution_count": 36,
   "metadata": {},
   "outputs": [
    {
     "name": "stdout",
     "output_type": "stream",
     "text": [
      "120\n"
     ]
    }
   ],
   "source": [
    "\"\"\"Resultado\"\"\"\n",
    "print factorial(5)"
   ]
  },
  {
   "cell_type": "markdown",
   "metadata": {},
   "source": [
    "<p style=\"text-align: justify;\">\n",
    "Uno de los ejemplos clasicos de recursividad es obtener el factorial de un número. El caso base es el factorial de cero (0) que es igual a 1. De otra forma se puede hacer la evaluación recursiva con el fin de calcular el factorial del número.\n",
    "</p>"
   ]
  },
  {
   "cell_type": "code",
   "execution_count": null,
   "metadata": {},
   "outputs": [],
   "source": []
  }
 ],
 "metadata": {
  "kernelspec": {
   "display_name": "Python 2",
   "language": "python",
   "name": "python2"
  },
  "language_info": {
   "codemirror_mode": {
    "name": "ipython",
    "version": 2
   },
   "file_extension": ".py",
   "mimetype": "text/x-python",
   "name": "python",
   "nbconvert_exporter": "python",
   "pygments_lexer": "ipython2",
   "version": "2.7.12"
  }
 },
 "nbformat": 4,
 "nbformat_minor": 2
}
